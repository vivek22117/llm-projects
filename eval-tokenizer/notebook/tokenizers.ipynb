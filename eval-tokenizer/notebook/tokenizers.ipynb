{
  "nbformat": 4,
  "nbformat_minor": 0,
  "metadata": {
    "colab": {
      "provenance": []
    },
    "kernelspec": {
      "name": "python3",
      "display_name": "Python 3"
    },
    "language_info": {
      "name": "python"
    }
  },
  "cells": [
    {
      "cell_type": "code",
      "execution_count": 3,
      "metadata": {
        "id": "Rmi-SWJ3xZhU",
        "collapsed": true,
        "colab": {
          "base_uri": "https://localhost:8080/"
        },
        "outputId": "ab0a7cf0-32b1-46c8-884a-93a8e9790554"
      },
      "outputs": [
        {
          "output_type": "stream",
          "name": "stdout",
          "text": [
            "Requirement already satisfied: transformers in /usr/local/lib/python3.12/dist-packages (4.55.4)\n",
            "Requirement already satisfied: datasets in /usr/local/lib/python3.12/dist-packages (4.0.0)\n",
            "Requirement already satisfied: sentencepiece in /usr/local/lib/python3.12/dist-packages (0.2.1)\n",
            "Requirement already satisfied: einops in /usr/local/lib/python3.12/dist-packages (0.8.1)\n",
            "Requirement already satisfied: filelock in /usr/local/lib/python3.12/dist-packages (from transformers) (3.19.1)\n",
            "Requirement already satisfied: huggingface-hub<1.0,>=0.34.0 in /usr/local/lib/python3.12/dist-packages (from transformers) (0.34.4)\n",
            "Requirement already satisfied: numpy>=1.17 in /usr/local/lib/python3.12/dist-packages (from transformers) (2.0.2)\n",
            "Requirement already satisfied: packaging>=20.0 in /usr/local/lib/python3.12/dist-packages (from transformers) (25.0)\n",
            "Requirement already satisfied: pyyaml>=5.1 in /usr/local/lib/python3.12/dist-packages (from transformers) (6.0.2)\n",
            "Requirement already satisfied: regex!=2019.12.17 in /usr/local/lib/python3.12/dist-packages (from transformers) (2024.11.6)\n",
            "Requirement already satisfied: requests in /usr/local/lib/python3.12/dist-packages (from transformers) (2.32.4)\n",
            "Requirement already satisfied: tokenizers<0.22,>=0.21 in /usr/local/lib/python3.12/dist-packages (from transformers) (0.21.4)\n",
            "Requirement already satisfied: safetensors>=0.4.3 in /usr/local/lib/python3.12/dist-packages (from transformers) (0.6.2)\n",
            "Requirement already satisfied: tqdm>=4.27 in /usr/local/lib/python3.12/dist-packages (from transformers) (4.67.1)\n",
            "Requirement already satisfied: pyarrow>=15.0.0 in /usr/local/lib/python3.12/dist-packages (from datasets) (18.1.0)\n",
            "Requirement already satisfied: dill<0.3.9,>=0.3.0 in /usr/local/lib/python3.12/dist-packages (from datasets) (0.3.8)\n",
            "Requirement already satisfied: pandas in /usr/local/lib/python3.12/dist-packages (from datasets) (2.2.2)\n",
            "Requirement already satisfied: xxhash in /usr/local/lib/python3.12/dist-packages (from datasets) (3.5.0)\n",
            "Requirement already satisfied: multiprocess<0.70.17 in /usr/local/lib/python3.12/dist-packages (from datasets) (0.70.16)\n",
            "Requirement already satisfied: fsspec<=2025.3.0,>=2023.1.0 in /usr/local/lib/python3.12/dist-packages (from fsspec[http]<=2025.3.0,>=2023.1.0->datasets) (2025.3.0)\n",
            "Requirement already satisfied: aiohttp!=4.0.0a0,!=4.0.0a1 in /usr/local/lib/python3.12/dist-packages (from fsspec[http]<=2025.3.0,>=2023.1.0->datasets) (3.12.15)\n",
            "Requirement already satisfied: typing-extensions>=3.7.4.3 in /usr/local/lib/python3.12/dist-packages (from huggingface-hub<1.0,>=0.34.0->transformers) (4.15.0)\n",
            "Requirement already satisfied: hf-xet<2.0.0,>=1.1.3 in /usr/local/lib/python3.12/dist-packages (from huggingface-hub<1.0,>=0.34.0->transformers) (1.1.8)\n",
            "Requirement already satisfied: charset_normalizer<4,>=2 in /usr/local/lib/python3.12/dist-packages (from requests->transformers) (3.4.3)\n",
            "Requirement already satisfied: idna<4,>=2.5 in /usr/local/lib/python3.12/dist-packages (from requests->transformers) (3.10)\n",
            "Requirement already satisfied: urllib3<3,>=1.21.1 in /usr/local/lib/python3.12/dist-packages (from requests->transformers) (2.5.0)\n",
            "Requirement already satisfied: certifi>=2017.4.17 in /usr/local/lib/python3.12/dist-packages (from requests->transformers) (2025.8.3)\n",
            "Requirement already satisfied: python-dateutil>=2.8.2 in /usr/local/lib/python3.12/dist-packages (from pandas->datasets) (2.9.0.post0)\n",
            "Requirement already satisfied: pytz>=2020.1 in /usr/local/lib/python3.12/dist-packages (from pandas->datasets) (2025.2)\n",
            "Requirement already satisfied: tzdata>=2022.7 in /usr/local/lib/python3.12/dist-packages (from pandas->datasets) (2025.2)\n",
            "Requirement already satisfied: aiohappyeyeballs>=2.5.0 in /usr/local/lib/python3.12/dist-packages (from aiohttp!=4.0.0a0,!=4.0.0a1->fsspec[http]<=2025.3.0,>=2023.1.0->datasets) (2.6.1)\n",
            "Requirement already satisfied: aiosignal>=1.4.0 in /usr/local/lib/python3.12/dist-packages (from aiohttp!=4.0.0a0,!=4.0.0a1->fsspec[http]<=2025.3.0,>=2023.1.0->datasets) (1.4.0)\n",
            "Requirement already satisfied: attrs>=17.3.0 in /usr/local/lib/python3.12/dist-packages (from aiohttp!=4.0.0a0,!=4.0.0a1->fsspec[http]<=2025.3.0,>=2023.1.0->datasets) (25.3.0)\n",
            "Requirement already satisfied: frozenlist>=1.1.1 in /usr/local/lib/python3.12/dist-packages (from aiohttp!=4.0.0a0,!=4.0.0a1->fsspec[http]<=2025.3.0,>=2023.1.0->datasets) (1.7.0)\n",
            "Requirement already satisfied: multidict<7.0,>=4.5 in /usr/local/lib/python3.12/dist-packages (from aiohttp!=4.0.0a0,!=4.0.0a1->fsspec[http]<=2025.3.0,>=2023.1.0->datasets) (6.6.4)\n",
            "Requirement already satisfied: propcache>=0.2.0 in /usr/local/lib/python3.12/dist-packages (from aiohttp!=4.0.0a0,!=4.0.0a1->fsspec[http]<=2025.3.0,>=2023.1.0->datasets) (0.3.2)\n",
            "Requirement already satisfied: yarl<2.0,>=1.17.0 in /usr/local/lib/python3.12/dist-packages (from aiohttp!=4.0.0a0,!=4.0.0a1->fsspec[http]<=2025.3.0,>=2023.1.0->datasets) (1.20.1)\n",
            "Requirement already satisfied: six>=1.5 in /usr/local/lib/python3.12/dist-packages (from python-dateutil>=2.8.2->pandas->datasets) (1.17.0)\n"
          ]
        }
      ],
      "source": [
        "!pip install transformers datasets sentencepiece einops"
      ]
    },
    {
      "cell_type": "code",
      "source": [
        "from transformers import AutoModel, AutoTokenizer\n",
        "import tiktoken\n",
        "\n",
        "\n",
        "def show_tokens(sentence, tokenizer_name, print_token_ids=False):\n",
        "  if tokenizer_name == \"gpt4\":\n",
        "    tokenizer = tiktoken.encoding_for_model(\"gpt-4\")\n",
        "    token_ids = tokenizer.encode(sentence)\n",
        "  else:\n",
        "    tokenizer = AutoTokenizer.from_pretrained(tokenizer_name)\n",
        "    token_ids = tokenizer.encode(sentence)\n",
        "\n",
        "  for t in token_ids:\n",
        "    if print_token_ids:\n",
        "      print(t, end = \" \")\n",
        "    print( '\\x1b[0;30;47m' + tokenizer.decode([t]) + '\\x1b[0m', end=' ')\n",
        "\n",
        "  print(\"\\n\\n\")\n",
        "\n",
        "  for t in token_ids:\n",
        "    print(t, '\\x1b[0;30;47m' + tokenizer.decode([t]) + '\\x1b[0m')\n",
        "\n",
        "def encode_decode(sentence, tokenizer_name):\n",
        "  tokenizer = AutoTokenizer.from_pretrained(tokenizer_name)\n",
        "  token_ids = tokenizer(sentence).input_ids\n",
        "  print(tokenizer.decode(token_ids))\n",
        "\n",
        "\n",
        "text = \"\"\"\n",
        "ENGLISH & CONVERSATION\n",
        "show_token False Non elif = >= else:\n",
        "Two Tabs: \"\\t\\t\" Four spasces = \"   \"\n",
        "12.0*35=700\n",
        "\"\"\""
      ],
      "metadata": {
        "id": "sa3_pIpoycHx"
      },
      "execution_count": 4,
      "outputs": []
    },
    {
      "cell_type": "code",
      "source": [
        "#show_tokens(text, \"bert-base-uncased\")\n",
        "show_tokens(text, \"bert-base-cased\")"
      ],
      "metadata": {
        "colab": {
          "base_uri": "https://localhost:8080/",
          "height": 1000,
          "referenced_widgets": [
            "f617a2b62a0843b0b6872a7b5ef7bbd8",
            "38fe52eb574441f2aa0a2d29ab3cb471",
            "2d891d9c89f749b2a48db5b23737839b",
            "70e167f0f25d4207be06e9da77f36e1c",
            "272dda77405844b4bfddb3940bb39c87",
            "12622067d7bc4ed897fa0acab48aaf6c",
            "fd4e77642ffa403b9c2b86e267e7c90d",
            "433628a0c73c44c6a51a97cbb69f5509",
            "b39cbed4a05a4a5890d29eeb5e03db00",
            "91b13e3dad9b4b6fb50cbbdb6cbdf958",
            "8fec4f036f86499aa112f81129170abc",
            "1c37b84347c248f0a20852795b3a91ab",
            "95be03eb10aa40dcb724f208640ecfcb",
            "19c5355b1e694227b8ba2a27d8b38024",
            "bf8618bb0da44552b73f570145f8fb98",
            "fa952a94047249e0b096981cdedc8555",
            "4aa071cc80874bb292aa76f074bab5c2",
            "e3231e243b4942cbbb40e7976991a6d0",
            "1ac1e5e862da4b90992bd1eba59daf1c",
            "649839311fb84ef89974cc723230046d",
            "d2b689ad0c0b4c3c9bfa00d6e915b9de",
            "533a8066a2ba47f4a0ba799c60e65e33",
            "1837820806294f79ad599a9adcfc321a",
            "d0d5d90ddbba403998dcf0bfc6d1c5d3",
            "e1a7d4452a974572b85b055d42cb18ce",
            "a6c0142f83af4b99833eec633710aa71",
            "8a56c7a157ab4d74892dc0f605ecbe72",
            "e5a3f9ec35fc45d8984e32c8d5251972",
            "5e2ac605c9764918ae5844d17860b62b",
            "51e11e599e53445293e4b71b25b07c18",
            "72da36cd38264d40a84376120d8c1d3d",
            "ef8af8c9fae24cec97e6b4d63ada7236",
            "b7460ed24ce44334bc76e3a65d4fd3ab",
            "e8d361f2311e424b9091faf94d435c39",
            "2caa0f2742a24005ac602456f3d08655",
            "55983249a06f490183e5fb28a399ee15",
            "e5ac7e735e23404b83e1c0f3913287a8",
            "bb7ba118ae9c40a19e9d95b220acab21",
            "847c39e654da4d82af30b0b2b8404b99",
            "42cb0908eae64d6eb3e44bfd3885b443",
            "f0958b6743aa42f8b73bebdafbdf973f",
            "e05d0642f1f240d0809383cde275a940",
            "e61b82e68e9a40749aa82bc682a48c4a",
            "3e63c1830e5b48bca92eb2062bac0799"
          ]
        },
        "collapsed": true,
        "id": "9EUzYMjw07Ny",
        "outputId": "3244bb9b-ffb1-4bce-d29a-c12121ba9e54"
      },
      "execution_count": 5,
      "outputs": [
        {
          "output_type": "stream",
          "name": "stderr",
          "text": [
            "/usr/local/lib/python3.12/dist-packages/huggingface_hub/utils/_auth.py:94: UserWarning: \n",
            "The secret `HF_TOKEN` does not exist in your Colab secrets.\n",
            "To authenticate with the Hugging Face Hub, create a token in your settings tab (https://huggingface.co/settings/tokens), set it as secret in your Google Colab and restart your session.\n",
            "You will be able to reuse this secret in all of your notebooks.\n",
            "Please note that authentication is recommended but still optional to access public models or datasets.\n",
            "  warnings.warn(\n"
          ]
        },
        {
          "output_type": "display_data",
          "data": {
            "text/plain": [
              "tokenizer_config.json:   0%|          | 0.00/49.0 [00:00<?, ?B/s]"
            ],
            "application/vnd.jupyter.widget-view+json": {
              "version_major": 2,
              "version_minor": 0,
              "model_id": "f617a2b62a0843b0b6872a7b5ef7bbd8"
            }
          },
          "metadata": {}
        },
        {
          "output_type": "display_data",
          "data": {
            "text/plain": [
              "config.json:   0%|          | 0.00/570 [00:00<?, ?B/s]"
            ],
            "application/vnd.jupyter.widget-view+json": {
              "version_major": 2,
              "version_minor": 0,
              "model_id": "1c37b84347c248f0a20852795b3a91ab"
            }
          },
          "metadata": {}
        },
        {
          "output_type": "display_data",
          "data": {
            "text/plain": [
              "vocab.txt:   0%|          | 0.00/213k [00:00<?, ?B/s]"
            ],
            "application/vnd.jupyter.widget-view+json": {
              "version_major": 2,
              "version_minor": 0,
              "model_id": "1837820806294f79ad599a9adcfc321a"
            }
          },
          "metadata": {}
        },
        {
          "output_type": "display_data",
          "data": {
            "text/plain": [
              "tokenizer.json:   0%|          | 0.00/436k [00:00<?, ?B/s]"
            ],
            "application/vnd.jupyter.widget-view+json": {
              "version_major": 2,
              "version_minor": 0,
              "model_id": "e8d361f2311e424b9091faf94d435c39"
            }
          },
          "metadata": {}
        },
        {
          "output_type": "stream",
          "name": "stdout",
          "text": [
            "\u001b[0;30;47m[CLS]\u001b[0m \u001b[0;30;47mE\u001b[0m \u001b[0;30;47m##NG\u001b[0m \u001b[0;30;47m##L\u001b[0m \u001b[0;30;47m##IS\u001b[0m \u001b[0;30;47m##H\u001b[0m \u001b[0;30;47m&\u001b[0m \u001b[0;30;47mCO\u001b[0m \u001b[0;30;47m##N\u001b[0m \u001b[0;30;47m##VE\u001b[0m \u001b[0;30;47m##RS\u001b[0m \u001b[0;30;47m##AT\u001b[0m \u001b[0;30;47m##ION\u001b[0m \u001b[0;30;47mshow\u001b[0m \u001b[0;30;47m_\u001b[0m \u001b[0;30;47mtoken\u001b[0m \u001b[0;30;47mF\u001b[0m \u001b[0;30;47m##als\u001b[0m \u001b[0;30;47m##e\u001b[0m \u001b[0;30;47mNon\u001b[0m \u001b[0;30;47mel\u001b[0m \u001b[0;30;47m##if\u001b[0m \u001b[0;30;47m=\u001b[0m \u001b[0;30;47m>\u001b[0m \u001b[0;30;47m=\u001b[0m \u001b[0;30;47melse\u001b[0m \u001b[0;30;47m:\u001b[0m \u001b[0;30;47mTwo\u001b[0m \u001b[0;30;47mTa\u001b[0m \u001b[0;30;47m##bs\u001b[0m \u001b[0;30;47m:\u001b[0m \u001b[0;30;47m\"\u001b[0m \u001b[0;30;47m\"\u001b[0m \u001b[0;30;47mFour\u001b[0m \u001b[0;30;47mspa\u001b[0m \u001b[0;30;47m##s\u001b[0m \u001b[0;30;47m##ces\u001b[0m \u001b[0;30;47m=\u001b[0m \u001b[0;30;47m\"\u001b[0m \u001b[0;30;47m\"\u001b[0m \u001b[0;30;47m12\u001b[0m \u001b[0;30;47m.\u001b[0m \u001b[0;30;47m0\u001b[0m \u001b[0;30;47m*\u001b[0m \u001b[0;30;47m35\u001b[0m \u001b[0;30;47m=\u001b[0m \u001b[0;30;47m700\u001b[0m \u001b[0;30;47m[SEP]\u001b[0m \n",
            "\n",
            "\n",
            "101 \u001b[0;30;47m[CLS]\u001b[0m\n",
            "142 \u001b[0;30;47mE\u001b[0m\n",
            "11780 \u001b[0;30;47m##NG\u001b[0m\n",
            "2162 \u001b[0;30;47m##L\u001b[0m\n",
            "6258 \u001b[0;30;47m##IS\u001b[0m\n",
            "3048 \u001b[0;30;47m##H\u001b[0m\n",
            "111 \u001b[0;30;47m&\u001b[0m\n",
            "18732 \u001b[0;30;47mCO\u001b[0m\n",
            "2249 \u001b[0;30;47m##N\u001b[0m\n",
            "17145 \u001b[0;30;47m##VE\u001b[0m\n",
            "8900 \u001b[0;30;47m##RS\u001b[0m\n",
            "13821 \u001b[0;30;47m##AT\u001b[0m\n",
            "24805 \u001b[0;30;47m##ION\u001b[0m\n",
            "1437 \u001b[0;30;47mshow\u001b[0m\n",
            "168 \u001b[0;30;47m_\u001b[0m\n",
            "22559 \u001b[0;30;47mtoken\u001b[0m\n",
            "143 \u001b[0;30;47mF\u001b[0m\n",
            "7264 \u001b[0;30;47m##als\u001b[0m\n",
            "1162 \u001b[0;30;47m##e\u001b[0m\n",
            "7922 \u001b[0;30;47mNon\u001b[0m\n",
            "8468 \u001b[0;30;47mel\u001b[0m\n",
            "8914 \u001b[0;30;47m##if\u001b[0m\n",
            "134 \u001b[0;30;47m=\u001b[0m\n",
            "135 \u001b[0;30;47m>\u001b[0m\n",
            "134 \u001b[0;30;47m=\u001b[0m\n",
            "1950 \u001b[0;30;47melse\u001b[0m\n",
            "131 \u001b[0;30;47m:\u001b[0m\n",
            "1960 \u001b[0;30;47mTwo\u001b[0m\n",
            "22515 \u001b[0;30;47mTa\u001b[0m\n",
            "4832 \u001b[0;30;47m##bs\u001b[0m\n",
            "131 \u001b[0;30;47m:\u001b[0m\n",
            "107 \u001b[0;30;47m\"\u001b[0m\n",
            "107 \u001b[0;30;47m\"\u001b[0m\n",
            "3396 \u001b[0;30;47mFour\u001b[0m\n",
            "22620 \u001b[0;30;47mspa\u001b[0m\n",
            "1116 \u001b[0;30;47m##s\u001b[0m\n",
            "7723 \u001b[0;30;47m##ces\u001b[0m\n",
            "134 \u001b[0;30;47m=\u001b[0m\n",
            "107 \u001b[0;30;47m\"\u001b[0m\n",
            "107 \u001b[0;30;47m\"\u001b[0m\n",
            "1367 \u001b[0;30;47m12\u001b[0m\n",
            "119 \u001b[0;30;47m.\u001b[0m\n",
            "121 \u001b[0;30;47m0\u001b[0m\n",
            "115 \u001b[0;30;47m*\u001b[0m\n",
            "2588 \u001b[0;30;47m35\u001b[0m\n",
            "134 \u001b[0;30;47m=\u001b[0m\n",
            "5689 \u001b[0;30;47m700\u001b[0m\n",
            "102 \u001b[0;30;47m[SEP]\u001b[0m\n"
          ]
        }
      ]
    },
    {
      "cell_type": "code",
      "source": [
        "show_tokens(text, \"gpt2\")"
      ],
      "metadata": {
        "id": "waLtPXFW1_1N"
      },
      "execution_count": null,
      "outputs": []
    },
    {
      "cell_type": "code",
      "source": [
        "encode_decode(text, \"gpt2\")"
      ],
      "metadata": {
        "colab": {
          "base_uri": "https://localhost:8080/",
          "height": 287,
          "referenced_widgets": [
            "53eda7176f4b47ec828c8d9ce2926c22",
            "30aa060384004f1abe25eb0f264ec789",
            "4c9b1bf2da134bf6914802d08de074b4",
            "4384990f02bb46cb9584effce4fed008",
            "92eca7a5b11a4c8cb03c0efcce86f03b",
            "9c42137b554643e79f3920dacc3a47ff",
            "5a12335c819b4020a9d48ac6f2dda552",
            "b5ef8dc2720a4d799d406d3f31e112f3",
            "7ef4f56f70ab4cdab98070c99b95730a",
            "4f1b0b1eedf343ef9fa4c6ff2ae52568",
            "01b4421af38b427793d08955d536f2c0",
            "ef207c018c664802847b99b68087478f",
            "75beb291b51642d9bffe77768e77060f",
            "e86c3667d2eb4a79aaffde313eabeb98",
            "385b9cf4b27c4093a881f01f52b6cb7f",
            "86a53a81abc74cb08c9d1c194ed54d21",
            "976c491b924145fb966660b355dc52b2",
            "91ee54705a0547cf81f774223c8e3286",
            "4477f256a98f4ffca6a05153624a16ff",
            "f1bc60ba129348a39962c21026d24cce",
            "4fae94559a794f16874a8379a98b5947",
            "d0ff658ddf814a6e9fb12de323c20baf",
            "3f5b78ac8b3c451eaadfb034979dbb8d",
            "b2ab8b74e79840d795bd9d0190c82a7e",
            "94b163d91ede42e19f70efef8983e492",
            "678eb5f2bc8b41a8998ab8c8c7b5a400",
            "bbfcfb2ecc6b4190880504bb4fce8526",
            "ea90746a378c47e48ede7cb20509bd13",
            "1212dd85f1a94ec2a0c099ea7514fb3c",
            "856740dafded4cbc8b404d602c8c9f0e",
            "c1817ca591b945c781e76c28e055fc1d",
            "128445c86e254549937505d4a0993519",
            "9852fbcc701f450cbf4fea60eb58f95d",
            "159d975d2a0f456c8252f6a605e608e0",
            "70e396c58fdf4d109c6bbf17165eb7ca",
            "0c4ac10191d746dcb15e406029d724ca",
            "307fe548f29a4c7cbba8ad7eedec5bd2",
            "1bef4370121d4f3dbaee3ffef2eebe6b",
            "fa4c0cfa420147ba8cd997cc303af4dc",
            "b296792a3c6843e7add51c1ecdb2888e",
            "3bfaa17647934bd4b7d71f88a541761a",
            "e72a70392b7d4e8a8e256059b91728ef",
            "de421d5ebc774e82a84f0003c84fe264",
            "3b1b3c7aeb684f65a711362a10dbf326",
            "611f433fd9dd428196f5ed2d21fd7b1b",
            "aef22ec411a84343a4cdcadb533903c7",
            "bd7847f5cf2f49beb6aa6b9780568a33",
            "a5de603c26994982b5203be08f833805",
            "94c986cf2aa44b5e9c59ea4516609570",
            "376a50555dea457d95e3d362db327da5",
            "06c056c840c049ab90a00da49b6d5208",
            "949b4333f54a4aac981351324ef9a453",
            "fd988adc6df94f94950c0cf7ab0bac5d",
            "da33e10a40a94b19a431757397239508",
            "2c1328721f9448d19e0fb20f4f538f20"
          ]
        },
        "id": "qIv0SI592kYY",
        "outputId": "2b7bcd7c-0a1e-4fc7-c3bf-f2cdd5ad5afb"
      },
      "execution_count": 6,
      "outputs": [
        {
          "output_type": "display_data",
          "data": {
            "text/plain": [
              "tokenizer_config.json:   0%|          | 0.00/26.0 [00:00<?, ?B/s]"
            ],
            "application/vnd.jupyter.widget-view+json": {
              "version_major": 2,
              "version_minor": 0,
              "model_id": "53eda7176f4b47ec828c8d9ce2926c22"
            }
          },
          "metadata": {}
        },
        {
          "output_type": "display_data",
          "data": {
            "text/plain": [
              "config.json:   0%|          | 0.00/665 [00:00<?, ?B/s]"
            ],
            "application/vnd.jupyter.widget-view+json": {
              "version_major": 2,
              "version_minor": 0,
              "model_id": "ef207c018c664802847b99b68087478f"
            }
          },
          "metadata": {}
        },
        {
          "output_type": "display_data",
          "data": {
            "text/plain": [
              "vocab.json:   0%|          | 0.00/1.04M [00:00<?, ?B/s]"
            ],
            "application/vnd.jupyter.widget-view+json": {
              "version_major": 2,
              "version_minor": 0,
              "model_id": "3f5b78ac8b3c451eaadfb034979dbb8d"
            }
          },
          "metadata": {}
        },
        {
          "output_type": "display_data",
          "data": {
            "text/plain": [
              "merges.txt:   0%|          | 0.00/456k [00:00<?, ?B/s]"
            ],
            "application/vnd.jupyter.widget-view+json": {
              "version_major": 2,
              "version_minor": 0,
              "model_id": "159d975d2a0f456c8252f6a605e608e0"
            }
          },
          "metadata": {}
        },
        {
          "output_type": "display_data",
          "data": {
            "text/plain": [
              "tokenizer.json:   0%|          | 0.00/1.36M [00:00<?, ?B/s]"
            ],
            "application/vnd.jupyter.widget-view+json": {
              "version_major": 2,
              "version_minor": 0,
              "model_id": "611f433fd9dd428196f5ed2d21fd7b1b"
            }
          },
          "metadata": {}
        },
        {
          "output_type": "stream",
          "name": "stdout",
          "text": [
            "\n",
            "ENGLISH & CONVERSATION\n",
            "show_token False Non elif = >= else:\n",
            "Two Tabs: \"\t\t\" Four spasces = \"   \"\n",
            "12.0*35=700\n",
            "\n"
          ]
        }
      ]
    },
    {
      "cell_type": "code",
      "source": [
        "show_tokens(text, \"gpt4\")  # maintains token for coding standards, else, elif, tabs, spaces"
      ],
      "metadata": {
        "colab": {
          "base_uri": "https://localhost:8080/"
        },
        "id": "FEeSnUyE3TjR",
        "outputId": "f0706868-5d0e-4b66-99ed-b63db7a996e9"
      },
      "execution_count": 7,
      "outputs": [
        {
          "output_type": "stream",
          "name": "stdout",
          "text": [
            "\u001b[0;30;47m\n",
            "\u001b[0m \u001b[0;30;47mEN\u001b[0m \u001b[0;30;47mGLISH\u001b[0m \u001b[0;30;47m &\u001b[0m \u001b[0;30;47m CON\u001b[0m \u001b[0;30;47mVERS\u001b[0m \u001b[0;30;47mATION\u001b[0m \u001b[0;30;47m\n",
            "\u001b[0m \u001b[0;30;47mshow\u001b[0m \u001b[0;30;47m_token\u001b[0m \u001b[0;30;47m False\u001b[0m \u001b[0;30;47m Non\u001b[0m \u001b[0;30;47m elif\u001b[0m \u001b[0;30;47m =\u001b[0m \u001b[0;30;47m >=\u001b[0m \u001b[0;30;47m else\u001b[0m \u001b[0;30;47m:\n",
            "\u001b[0m \u001b[0;30;47mTwo\u001b[0m \u001b[0;30;47m Tabs\u001b[0m \u001b[0;30;47m:\u001b[0m \u001b[0;30;47m \"\u001b[0m \u001b[0;30;47m\t\u001b[0m \u001b[0;30;47m\t\u001b[0m \u001b[0;30;47m\"\u001b[0m \u001b[0;30;47m Four\u001b[0m \u001b[0;30;47m spas\u001b[0m \u001b[0;30;47mces\u001b[0m \u001b[0;30;47m =\u001b[0m \u001b[0;30;47m \"\u001b[0m \u001b[0;30;47m  \u001b[0m \u001b[0;30;47m \"\n",
            "\u001b[0m \u001b[0;30;47m12\u001b[0m \u001b[0;30;47m.\u001b[0m \u001b[0;30;47m0\u001b[0m \u001b[0;30;47m*\u001b[0m \u001b[0;30;47m35\u001b[0m \u001b[0;30;47m=\u001b[0m \u001b[0;30;47m700\u001b[0m \u001b[0;30;47m\n",
            "\u001b[0m \n",
            "\n",
            "\n",
            "198 \u001b[0;30;47m\n",
            "\u001b[0m\n",
            "965 \u001b[0;30;47mEN\u001b[0m\n",
            "65518 \u001b[0;30;47mGLISH\u001b[0m\n",
            "612 \u001b[0;30;47m &\u001b[0m\n",
            "3501 \u001b[0;30;47m CON\u001b[0m\n",
            "73326 \u001b[0;30;47mVERS\u001b[0m\n",
            "3579 \u001b[0;30;47mATION\u001b[0m\n",
            "198 \u001b[0;30;47m\n",
            "\u001b[0m\n",
            "3528 \u001b[0;30;47mshow\u001b[0m\n",
            "6594 \u001b[0;30;47m_token\u001b[0m\n",
            "3641 \u001b[0;30;47m False\u001b[0m\n",
            "11842 \u001b[0;30;47m Non\u001b[0m\n",
            "4508 \u001b[0;30;47m elif\u001b[0m\n",
            "284 \u001b[0;30;47m =\u001b[0m\n",
            "2669 \u001b[0;30;47m >=\u001b[0m\n",
            "775 \u001b[0;30;47m else\u001b[0m\n",
            "512 \u001b[0;30;47m:\n",
            "\u001b[0m\n",
            "11874 \u001b[0;30;47mTwo\u001b[0m\n",
            "53714 \u001b[0;30;47m Tabs\u001b[0m\n",
            "25 \u001b[0;30;47m:\u001b[0m\n",
            "330 \u001b[0;30;47m \"\u001b[0m\n",
            "197 \u001b[0;30;47m\t\u001b[0m\n",
            "197 \u001b[0;30;47m\t\u001b[0m\n",
            "1 \u001b[0;30;47m\"\u001b[0m\n",
            "13625 \u001b[0;30;47m Four\u001b[0m\n",
            "83060 \u001b[0;30;47m spas\u001b[0m\n",
            "1634 \u001b[0;30;47mces\u001b[0m\n",
            "284 \u001b[0;30;47m =\u001b[0m\n",
            "330 \u001b[0;30;47m \"\u001b[0m\n",
            "256 \u001b[0;30;47m  \u001b[0m\n",
            "6360 \u001b[0;30;47m \"\n",
            "\u001b[0m\n",
            "717 \u001b[0;30;47m12\u001b[0m\n",
            "13 \u001b[0;30;47m.\u001b[0m\n",
            "15 \u001b[0;30;47m0\u001b[0m\n",
            "9 \u001b[0;30;47m*\u001b[0m\n",
            "1758 \u001b[0;30;47m35\u001b[0m\n",
            "28 \u001b[0;30;47m=\u001b[0m\n",
            "7007 \u001b[0;30;47m700\u001b[0m\n",
            "198 \u001b[0;30;47m\n",
            "\u001b[0m\n"
          ]
        }
      ]
    },
    {
      "cell_type": "code",
      "source": [
        "show_tokens(text, \"bigcode/starcoder\")"
      ],
      "metadata": {
        "id": "GGROzYMt3zfi"
      },
      "execution_count": null,
      "outputs": []
    },
    {
      "cell_type": "code",
      "source": [
        "show_tokens(text, \"facebook/galactica-1.3b\")"
      ],
      "metadata": {
        "colab": {
          "base_uri": "https://localhost:8080/",
          "height": 1000,
          "referenced_widgets": [
            "ce0856c3acba4b1d842ec41ee448f1f8",
            "b43430c506644d80bf32fca90660a6e2",
            "641e73d4ddaf4832bcf3a6d3d67a5a70",
            "bd5235ba85b748649004ce1f4b17898a",
            "dd3a5793db5444278123a1deaa2da101",
            "5c741e22410245aa83778d56de2d0c7d",
            "8c3e5bb526e64ee392fe749d611aa185",
            "417305a7be694d63b85d83d4febe5eec",
            "0b6e492e6dd74ee5adbb278a061965e1",
            "81a539bdc3454ac8a09d1b28088f6f80",
            "c1b0e0567baf472cac87d494d570e8f8",
            "4bb10e1295ef4b179a1d95de0bb5f331",
            "d40d633ee21c4218b68bacb29063208a",
            "0ec7f766b29c446a9fca074f98dcbcc8",
            "8e7b8a417fe940439585325c0a18b838",
            "876f6e8817db4917b485c1307596dfdd",
            "bd06cdd3c4b74178b660ad06ad8cb83d",
            "69dc4224f8814a16887b47687fe29df1",
            "0ad6b0ca83b44d31a50031c599472071",
            "8742f260b8bd4de48c700fa4cea13df9",
            "550f8ca0c5384781b4c9b5a579b1b2aa",
            "e34cad17966649af917b3f1f1ad696e2",
            "332ad1fdb5944b79b4ff698aef6f4338",
            "2709ab9fbcab4a9a8cc789a8311f9a68",
            "cf584c53bb5643aaa066443ec2798ee2",
            "2713331964e24fafa4cdbd5f2a431bc6",
            "dbdb4ab43f7040f8993018cd129d0983",
            "73cde33a5368473aa52d1c72cf20ba1a",
            "796f036ab2b64c258e46b4bc862f4b10",
            "07c4c54fe66b4a74bd2da22b6872d34a",
            "aeffb40250634112987c21426361a7d1",
            "72c4752a735445ba969d4b1f175c7f2a",
            "ef1d0ae860274d998d4b009f997f20c7"
          ]
        },
        "id": "eFIe7ZHs4mrs",
        "outputId": "1b76119c-77e5-441d-9a28-784ad6feb6f5"
      },
      "execution_count": 9,
      "outputs": [
        {
          "output_type": "display_data",
          "data": {
            "text/plain": [
              "tokenizer_config.json:   0%|          | 0.00/166 [00:00<?, ?B/s]"
            ],
            "application/vnd.jupyter.widget-view+json": {
              "version_major": 2,
              "version_minor": 0,
              "model_id": "ce0856c3acba4b1d842ec41ee448f1f8"
            }
          },
          "metadata": {}
        },
        {
          "output_type": "display_data",
          "data": {
            "text/plain": [
              "tokenizer.json: 0.00B [00:00, ?B/s]"
            ],
            "application/vnd.jupyter.widget-view+json": {
              "version_major": 2,
              "version_minor": 0,
              "model_id": "4bb10e1295ef4b179a1d95de0bb5f331"
            }
          },
          "metadata": {}
        },
        {
          "output_type": "display_data",
          "data": {
            "text/plain": [
              "special_tokens_map.json:   0%|          | 0.00/3.00 [00:00<?, ?B/s]"
            ],
            "application/vnd.jupyter.widget-view+json": {
              "version_major": 2,
              "version_minor": 0,
              "model_id": "332ad1fdb5944b79b4ff698aef6f4338"
            }
          },
          "metadata": {}
        },
        {
          "output_type": "stream",
          "name": "stdout",
          "text": [
            "\u001b[0;30;47m\n",
            "\u001b[0m \u001b[0;30;47mEN\u001b[0m \u001b[0;30;47mGL\u001b[0m \u001b[0;30;47mISH\u001b[0m \u001b[0;30;47m \u001b[0m \u001b[0;30;47m&\u001b[0m \u001b[0;30;47m CON\u001b[0m \u001b[0;30;47mV\u001b[0m \u001b[0;30;47mERS\u001b[0m \u001b[0;30;47mATION\u001b[0m \u001b[0;30;47m\n",
            "\u001b[0m \u001b[0;30;47mshow\u001b[0m \u001b[0;30;47m_\u001b[0m \u001b[0;30;47mtoken\u001b[0m \u001b[0;30;47m False\u001b[0m \u001b[0;30;47m Non\u001b[0m \u001b[0;30;47m elif\u001b[0m \u001b[0;30;47m \u001b[0m \u001b[0;30;47m=\u001b[0m \u001b[0;30;47m \u001b[0m \u001b[0;30;47m>\u001b[0m \u001b[0;30;47m=\u001b[0m \u001b[0;30;47m else\u001b[0m \u001b[0;30;47m:\u001b[0m \u001b[0;30;47m\n",
            "\u001b[0m \u001b[0;30;47mTwo\u001b[0m \u001b[0;30;47m T\u001b[0m \u001b[0;30;47mabs\u001b[0m \u001b[0;30;47m:\u001b[0m \u001b[0;30;47m \u001b[0m \u001b[0;30;47m\"\u001b[0m \u001b[0;30;47m\t\t\u001b[0m \u001b[0;30;47m\"\u001b[0m \u001b[0;30;47m Four\u001b[0m \u001b[0;30;47m sp\u001b[0m \u001b[0;30;47mas\u001b[0m \u001b[0;30;47mces\u001b[0m \u001b[0;30;47m \u001b[0m \u001b[0;30;47m=\u001b[0m \u001b[0;30;47m \u001b[0m \u001b[0;30;47m\"\u001b[0m \u001b[0;30;47m   \u001b[0m \u001b[0;30;47m\"\u001b[0m \u001b[0;30;47m\n",
            "\u001b[0m \u001b[0;30;47m1\u001b[0m \u001b[0;30;47m2\u001b[0m \u001b[0;30;47m.\u001b[0m \u001b[0;30;47m0\u001b[0m \u001b[0;30;47m*\u001b[0m \u001b[0;30;47m3\u001b[0m \u001b[0;30;47m5\u001b[0m \u001b[0;30;47m=\u001b[0m \u001b[0;30;47m7\u001b[0m \u001b[0;30;47m0\u001b[0m \u001b[0;30;47m0\u001b[0m \u001b[0;30;47m\n",
            "\u001b[0m \n",
            "\n",
            "\n",
            "221 \u001b[0;30;47m\n",
            "\u001b[0m\n",
            "378 \u001b[0;30;47mEN\u001b[0m\n",
            "5699 \u001b[0;30;47mGL\u001b[0m\n",
            "17136 \u001b[0;30;47mISH\u001b[0m\n",
            "243 \u001b[0;30;47m \u001b[0m\n",
            "28 \u001b[0;30;47m&\u001b[0m\n",
            "6066 \u001b[0;30;47m CON\u001b[0m\n",
            "76 \u001b[0;30;47mV\u001b[0m\n",
            "9521 \u001b[0;30;47mERS\u001b[0m\n",
            "5152 \u001b[0;30;47mATION\u001b[0m\n",
            "221 \u001b[0;30;47m\n",
            "\u001b[0m\n",
            "14592 \u001b[0;30;47mshow\u001b[0m\n",
            "85 \u001b[0;30;47m_\u001b[0m\n",
            "16645 \u001b[0;30;47mtoken\u001b[0m\n",
            "12051 \u001b[0;30;47m False\u001b[0m\n",
            "3381 \u001b[0;30;47m Non\u001b[0m\n",
            "14155 \u001b[0;30;47m elif\u001b[0m\n",
            "243 \u001b[0;30;47m \u001b[0m\n",
            "51 \u001b[0;30;47m=\u001b[0m\n",
            "243 \u001b[0;30;47m \u001b[0m\n",
            "52 \u001b[0;30;47m>\u001b[0m\n",
            "51 \u001b[0;30;47m=\u001b[0m\n",
            "3683 \u001b[0;30;47m else\u001b[0m\n",
            "48 \u001b[0;30;47m:\u001b[0m\n",
            "221 \u001b[0;30;47m\n",
            "\u001b[0m\n",
            "11879 \u001b[0;30;47mTwo\u001b[0m\n",
            "330 \u001b[0;30;47m T\u001b[0m\n",
            "6510 \u001b[0;30;47mabs\u001b[0m\n",
            "48 \u001b[0;30;47m:\u001b[0m\n",
            "243 \u001b[0;30;47m \u001b[0m\n",
            "24 \u001b[0;30;47m\"\u001b[0m\n",
            "1211 \u001b[0;30;47m\t\t\u001b[0m\n",
            "24 \u001b[0;30;47m\"\u001b[0m\n",
            "4407 \u001b[0;30;47m Four\u001b[0m\n",
            "464 \u001b[0;30;47m sp\u001b[0m\n",
            "317 \u001b[0;30;47mas\u001b[0m\n",
            "1048 \u001b[0;30;47mces\u001b[0m\n",
            "243 \u001b[0;30;47m \u001b[0m\n",
            "51 \u001b[0;30;47m=\u001b[0m\n",
            "243 \u001b[0;30;47m \u001b[0m\n",
            "24 \u001b[0;30;47m\"\u001b[0m\n",
            "507 \u001b[0;30;47m   \u001b[0m\n",
            "24 \u001b[0;30;47m\"\u001b[0m\n",
            "221 \u001b[0;30;47m\n",
            "\u001b[0m\n",
            "39 \u001b[0;30;47m1\u001b[0m\n",
            "40 \u001b[0;30;47m2\u001b[0m\n",
            "36 \u001b[0;30;47m.\u001b[0m\n",
            "38 \u001b[0;30;47m0\u001b[0m\n",
            "32 \u001b[0;30;47m*\u001b[0m\n",
            "41 \u001b[0;30;47m3\u001b[0m\n",
            "43 \u001b[0;30;47m5\u001b[0m\n",
            "51 \u001b[0;30;47m=\u001b[0m\n",
            "45 \u001b[0;30;47m7\u001b[0m\n",
            "38 \u001b[0;30;47m0\u001b[0m\n",
            "38 \u001b[0;30;47m0\u001b[0m\n",
            "221 \u001b[0;30;47m\n",
            "\u001b[0m\n"
          ]
        }
      ]
    }
  ]
}